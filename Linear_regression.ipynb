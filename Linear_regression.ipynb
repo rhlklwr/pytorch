{
 "cells": [
  {
   "cell_type": "code",
   "execution_count": 1,
   "metadata": {},
   "outputs": [],
   "source": [
    "import torch\n",
    "import torchvision\n",
    "import numpy as np"
   ]
  },
  {
   "cell_type": "code",
   "execution_count": 2,
   "metadata": {},
   "outputs": [],
   "source": [
    "# Input (temp, rainfall, humidity)\n",
    "inputs = np.array([[73, 67, 43], \n",
    "                   [91, 88, 64], \n",
    "                   [87, 134, 58], \n",
    "                   [102, 43, 37], \n",
    "                   [69, 96, 70]], dtype='float32')"
   ]
  },
  {
   "cell_type": "code",
   "execution_count": 3,
   "metadata": {},
   "outputs": [],
   "source": [
    "# Targets (apples, oranges)\n",
    "targets = np.array([[56, 70], \n",
    "                    [81, 101], \n",
    "                    [119, 133], \n",
    "                    [22, 37], \n",
    "                    [103, 119]], dtype='float32')"
   ]
  },
  {
   "cell_type": "code",
   "execution_count": 4,
   "metadata": {},
   "outputs": [],
   "source": [
    "inputs = torch.from_numpy(inputs)\n",
    "targets = torch.from_numpy(targets)"
   ]
  },
  {
   "cell_type": "code",
   "execution_count": 5,
   "metadata": {},
   "outputs": [
    {
     "name": "stdout",
     "output_type": "stream",
     "text": [
      "tensor([[ 73.,  67.,  43.],\n",
      "        [ 91.,  88.,  64.],\n",
      "        [ 87., 134.,  58.],\n",
      "        [102.,  43.,  37.],\n",
      "        [ 69.,  96.,  70.]])\n",
      "tensor([[ 56.,  70.],\n",
      "        [ 81., 101.],\n",
      "        [119., 133.],\n",
      "        [ 22.,  37.],\n",
      "        [103., 119.]])\n"
     ]
    }
   ],
   "source": [
    "print(inputs)\n",
    "print(targets)"
   ]
  },
  {
   "cell_type": "markdown",
   "metadata": {},
   "source": [
    "# Linear Regression Model basic"
   ]
  },
  {
   "cell_type": "code",
   "execution_count": 6,
   "metadata": {},
   "outputs": [
    {
     "name": "stdout",
     "output_type": "stream",
     "text": [
      "tensor([[ 0.3018,  0.2814, -0.8400],\n",
      "        [-0.1781,  1.4969,  0.6100]], requires_grad=True) tensor([1.0318, 0.1221], requires_grad=True)\n"
     ]
    }
   ],
   "source": [
    "w = torch.randn(2, 3, requires_grad = True)\n",
    "b = torch.randn(2, requires_grad = True)\n",
    "\n",
    "print(w, b)"
   ]
  },
  {
   "cell_type": "code",
   "execution_count": 7,
   "metadata": {},
   "outputs": [],
   "source": [
    "def model(x):\n",
    "    return x @ w.t() + b"
   ]
  },
  {
   "cell_type": "code",
   "execution_count": 8,
   "metadata": {},
   "outputs": [
    {
     "name": "stdout",
     "output_type": "stream",
     "text": [
      "Prediction tensor([[  5.7979, 113.6424],\n",
      "        [ -0.5004, 154.6810],\n",
      "        [ 16.2792, 220.5895],\n",
      "        [ 12.8356,  68.8934],\n",
      "        [ -9.9287, 174.2335]], grad_fn=<AddBackward0>) \n",
      "\n",
      "Targets tensor([[ 56.,  70.],\n",
      "        [ 81., 101.],\n",
      "        [119., 133.],\n",
      "        [ 22.,  37.],\n",
      "        [103., 119.]])\n"
     ]
    }
   ],
   "source": [
    "preds = model(inputs)\n",
    "\n",
    "print(f\"Prediction {preds}\", f\"\\n\\nTargets {targets}\")"
   ]
  },
  {
   "cell_type": "markdown",
   "metadata": {},
   "source": [
    "# Loss Function"
   ]
  },
  {
   "cell_type": "code",
   "execution_count": 9,
   "metadata": {},
   "outputs": [],
   "source": [
    "# Mse loss\n",
    "\n",
    "def mse(t1, t2):\n",
    "    diff = t1 - t2\n",
    "    return torch.sum(diff * diff) / diff.numel()"
   ]
  },
  {
   "cell_type": "code",
   "execution_count": 10,
   "metadata": {},
   "outputs": [
    {
     "name": "stdout",
     "output_type": "stream",
     "text": [
      "tensor(4907.7158, grad_fn=<DivBackward0>)\n"
     ]
    }
   ],
   "source": [
    "# Compute loss\n",
    "\n",
    "loss = mse(preds, targets)\n",
    "\n",
    "print(loss)"
   ]
  },
  {
   "cell_type": "code",
   "execution_count": 11,
   "metadata": {},
   "outputs": [],
   "source": [
    "# Compute gradient\n",
    "loss.backward()"
   ]
  },
  {
   "cell_type": "code",
   "execution_count": 12,
   "metadata": {},
   "outputs": [
    {
     "name": "stdout",
     "output_type": "stream",
     "text": [
      "tensor([[ 0.3018,  0.2814, -0.8400],\n",
      "        [-0.1781,  1.4969,  0.6100]], requires_grad=True)\n",
      "tensor([[-5748.9692, -7107.0771, -4315.3223],\n",
      "        [ 4551.0786,  5211.7588,  3087.7598]])\n"
     ]
    }
   ],
   "source": [
    "print(w)\n",
    "print(w.grad)"
   ]
  },
  {
   "cell_type": "code",
   "execution_count": 13,
   "metadata": {},
   "outputs": [
    {
     "name": "stdout",
     "output_type": "stream",
     "text": [
      "tensor([[0., 0., 0.],\n",
      "        [0., 0., 0.]]) \n",
      " tensor([0., 0.])\n"
     ]
    }
   ],
   "source": [
    "# To reset grad value to zero before calling loss.backward again\n",
    "\n",
    "w.grad.zero_()\n",
    "b.grad.zero_()\n",
    "\n",
    "print(w.grad,\"\\n\",b.grad)"
   ]
  },
  {
   "cell_type": "code",
   "execution_count": 19,
   "metadata": {},
   "outputs": [
    {
     "name": "stdout",
     "output_type": "stream",
     "text": [
      "tensor(4907.7158, grad_fn=<DivBackward0>)\n",
      "tensor([[  5.7979, 113.6424],\n",
      "        [ -0.5004, 154.6810],\n",
      "        [ 16.2792, 220.5895],\n",
      "        [ 12.8356,  68.8934],\n",
      "        [ -9.9287, 174.2335]], grad_fn=<AddBackward0>)\n"
     ]
    }
   ],
   "source": [
    "# Generate predictions\n",
    "loss = mse(preds, targets)\n",
    "print(loss)\n",
    "\n",
    "loss.backward()\n",
    "preds = model(inputs)\n",
    "print(preds)"
   ]
  },
  {
   "cell_type": "code",
   "execution_count": 20,
   "metadata": {},
   "outputs": [],
   "source": [
    "# Adjust weights & reset gradients\n",
    "\n",
    "with torch.no_grad():\n",
    "    w -= w.grad * 1e-5\n",
    "    b -= b.grad * 1e-5\n",
    "    w.grad.zero_()\n",
    "    b.grad.zero_()"
   ]
  },
  {
   "cell_type": "code",
   "execution_count": 21,
   "metadata": {},
   "outputs": [
    {
     "name": "stdout",
     "output_type": "stream",
     "text": [
      "tensor([[ 0.3593,  0.3525, -0.7969],\n",
      "        [-0.2236,  1.4448,  0.5791]], requires_grad=True)\n",
      "tensor([1.0325, 0.1215], requires_grad=True)\n"
     ]
    }
   ],
   "source": [
    "print(w)\n",
    "print(b)"
   ]
  },
  {
   "cell_type": "code",
   "execution_count": 22,
   "metadata": {},
   "outputs": [
    {
     "name": "stdout",
     "output_type": "stream",
     "text": [
      "tensor(3454.2129, grad_fn=<DivBackward0>)\n"
     ]
    }
   ],
   "source": [
    "# Calculate loss\n",
    "preds = model(inputs)\n",
    "loss = mse(preds, targets)\n",
    "print(loss)"
   ]
  },
  {
   "cell_type": "code",
   "execution_count": 23,
   "metadata": {},
   "outputs": [],
   "source": [
    "# Train for 100 epochs\n",
    "for i in range(500):\n",
    "    preds = model(inputs)\n",
    "    loss = mse(preds, targets)\n",
    "    loss.backward()\n",
    "    with torch.no_grad():\n",
    "        w -= w.grad * 1e-5\n",
    "        b -= b.grad * 1e-5\n",
    "        w.grad.zero_()\n",
    "        b.grad.zero_()"
   ]
  },
  {
   "cell_type": "code",
   "execution_count": 24,
   "metadata": {},
   "outputs": [
    {
     "name": "stdout",
     "output_type": "stream",
     "text": [
      "tensor(39.2358, grad_fn=<DivBackward0>)\n"
     ]
    }
   ],
   "source": [
    "# Calculate loss\n",
    "preds = model(inputs)\n",
    "loss = mse(preds, targets)\n",
    "print(loss)"
   ]
  },
  {
   "cell_type": "code",
   "execution_count": 25,
   "metadata": {},
   "outputs": [
    {
     "name": "stdout",
     "output_type": "stream",
     "text": [
      "Prediction tensor([[ 58.3502,  70.4982],\n",
      "        [ 76.6603,  98.2170],\n",
      "        [129.4059, 138.2341],\n",
      "        [ 26.3262,  37.7367],\n",
      "        [ 89.4141, 114.4730]], grad_fn=<AddBackward0>) \n",
      "\n",
      "Targets tensor([[ 56.,  70.],\n",
      "        [ 81., 101.],\n",
      "        [119., 133.],\n",
      "        [ 22.,  37.],\n",
      "        [103., 119.]])\n"
     ]
    }
   ],
   "source": [
    "preds = model(inputs)\n",
    "\n",
    "print(f\"Prediction {preds}\", f\"\\n\\nTargets {targets}\")"
   ]
  },
  {
   "cell_type": "markdown",
   "metadata": {},
   "source": [
    "# Linear regression with pytorch built-in"
   ]
  },
  {
   "cell_type": "code",
   "execution_count": 27,
   "metadata": {},
   "outputs": [],
   "source": [
    "import torch.nn as nn"
   ]
  },
  {
   "cell_type": "code",
   "execution_count": 28,
   "metadata": {},
   "outputs": [],
   "source": [
    "# Input (temp, rainfall, humidity)\n",
    "inputs = np.array([[73, 67, 43], [91, 88, 64], [87, 134, 58], \n",
    "                   [102, 43, 37], [69, 96, 70], [73, 67, 43], \n",
    "                   [91, 88, 64], [87, 134, 58], [102, 43, 37], \n",
    "                   [69, 96, 70], [73, 67, 43], [91, 88, 64], \n",
    "                   [87, 134, 58], [102, 43, 37], [69, 96, 70]], \n",
    "                  dtype='float32')\n",
    "\n",
    "# Targets (apples, oranges)\n",
    "targets = np.array([[56, 70], [81, 101], [119, 133], \n",
    "                    [22, 37], [103, 119], [56, 70], \n",
    "                    [81, 101], [119, 133], [22, 37], \n",
    "                    [103, 119], [56, 70], [81, 101], \n",
    "                    [119, 133], [22, 37], [103, 119]], \n",
    "                   dtype='float32')\n",
    "\n",
    "inputs = torch.from_numpy(inputs)\n",
    "targets = torch.from_numpy(targets)"
   ]
  },
  {
   "cell_type": "markdown",
   "metadata": {},
   "source": [
    "# Dataset and Dataloader"
   ]
  },
  {
   "cell_type": "code",
   "execution_count": 30,
   "metadata": {},
   "outputs": [],
   "source": [
    "from torch.utils.data import TensorDataset"
   ]
  },
  {
   "cell_type": "code",
   "execution_count": 34,
   "metadata": {},
   "outputs": [
    {
     "data": {
      "text/plain": [
       "(tensor([[73., 67., 43.],\n",
       "         [91., 88., 64.]]), tensor([[ 56.,  70.],\n",
       "         [ 81., 101.]]))"
      ]
     },
     "execution_count": 34,
     "metadata": {},
     "output_type": "execute_result"
    }
   ],
   "source": [
    "train_ds = TensorDataset(inputs, targets)\n",
    "train_ds[0:2]"
   ]
  },
  {
   "cell_type": "code",
   "execution_count": 36,
   "metadata": {},
   "outputs": [],
   "source": [
    "from torch.utils.data import DataLoader"
   ]
  },
  {
   "cell_type": "code",
   "execution_count": 37,
   "metadata": {},
   "outputs": [],
   "source": [
    "batch_size = 5\n",
    "\n",
    "train_dl = DataLoader(train_ds, batch_size, shuffle=True)"
   ]
  },
  {
   "cell_type": "code",
   "execution_count": 38,
   "metadata": {},
   "outputs": [
    {
     "name": "stdout",
     "output_type": "stream",
     "text": [
      "tensor([[ 69.,  96.,  70.],\n",
      "        [ 73.,  67.,  43.],\n",
      "        [102.,  43.,  37.],\n",
      "        [ 91.,  88.,  64.],\n",
      "        [102.,  43.,  37.]])\n",
      "tensor([[103., 119.],\n",
      "        [ 56.,  70.],\n",
      "        [ 22.,  37.],\n",
      "        [ 81., 101.],\n",
      "        [ 22.,  37.]])\n"
     ]
    }
   ],
   "source": [
    "for xb, yb in train_dl:\n",
    "    print(xb)\n",
    "    print(yb)\n",
    "    break"
   ]
  },
  {
   "cell_type": "code",
   "execution_count": 39,
   "metadata": {},
   "outputs": [
    {
     "name": "stdout",
     "output_type": "stream",
     "text": [
      "Parameter containing:\n",
      "tensor([[-0.1706, -0.0472,  0.4410],\n",
      "        [-0.0807,  0.3012,  0.2203]], requires_grad=True)\n",
      "Parameter containing:\n",
      "tensor([0.3122, 0.3041], requires_grad=True)\n"
     ]
    }
   ],
   "source": [
    "model = nn.Linear(3, 2) # nn.Linear(input_size, output_size)\n",
    "print(model.weight)\n",
    "print(model.bias)"
   ]
  },
  {
   "cell_type": "code",
   "execution_count": 40,
   "metadata": {},
   "outputs": [
    {
     "data": {
      "text/plain": [
       "[Parameter containing:\n",
       " tensor([[-0.1706, -0.0472,  0.4410],\n",
       "         [-0.0807,  0.3012,  0.2203]], requires_grad=True),\n",
       " Parameter containing:\n",
       " tensor([0.3122, 0.3041], requires_grad=True)]"
      ]
     },
     "execution_count": 40,
     "metadata": {},
     "output_type": "execute_result"
    }
   ],
   "source": [
    "# Parameters\n",
    "list(model.parameters())"
   ]
  },
  {
   "cell_type": "code",
   "execution_count": 41,
   "metadata": {},
   "outputs": [
    {
     "data": {
      "text/plain": [
       "tensor([[ 3.6601, 24.0707],\n",
       "        [ 8.8594, 33.5706],\n",
       "        [ 4.7250, 46.4287],\n",
       "        [-2.8003, 13.1799],\n",
       "        [14.8808, 39.0769],\n",
       "        [ 3.6601, 24.0707],\n",
       "        [ 8.8594, 33.5706],\n",
       "        [ 4.7250, 46.4287],\n",
       "        [-2.8003, 13.1799],\n",
       "        [14.8808, 39.0769],\n",
       "        [ 3.6601, 24.0707],\n",
       "        [ 8.8594, 33.5706],\n",
       "        [ 4.7250, 46.4287],\n",
       "        [-2.8003, 13.1799],\n",
       "        [14.8808, 39.0769]], grad_fn=<AddmmBackward>)"
      ]
     },
     "execution_count": 41,
     "metadata": {},
     "output_type": "execute_result"
    }
   ],
   "source": [
    "# Generate predictions\n",
    "preds = model(inputs)\n",
    "preds"
   ]
  },
  {
   "cell_type": "code",
   "execution_count": 42,
   "metadata": {},
   "outputs": [],
   "source": [
    "# Loss Function\n",
    "import torch.nn.functional as F"
   ]
  },
  {
   "cell_type": "code",
   "execution_count": 43,
   "metadata": {},
   "outputs": [],
   "source": [
    "loss_fn = F.mse_loss"
   ]
  },
  {
   "cell_type": "code",
   "execution_count": 44,
   "metadata": {},
   "outputs": [
    {
     "name": "stdout",
     "output_type": "stream",
     "text": [
      "tensor(5048.8481, grad_fn=<MseLossBackward>)\n"
     ]
    }
   ],
   "source": [
    "loss = loss_fn(model(inputs), targets)\n",
    "print(loss)"
   ]
  },
  {
   "cell_type": "code",
   "execution_count": 45,
   "metadata": {},
   "outputs": [],
   "source": [
    "# Define optimizer\n",
    "opt = torch.optim.SGD(model.parameters(), lr=1e-5)"
   ]
  },
  {
   "cell_type": "code",
   "execution_count": 46,
   "metadata": {},
   "outputs": [],
   "source": [
    "# Utility function to train the model\n",
    "def fit(num_epochs, model, loss_fn, opt, train_dl):\n",
    "    \n",
    "    # Repeat for given number of epochs\n",
    "    for epoch in range(num_epochs):\n",
    "        \n",
    "        # Train with batches of data\n",
    "        for xb,yb in train_dl:\n",
    "            \n",
    "            # 1. Generate predictions\n",
    "            pred = model(xb)\n",
    "            \n",
    "            # 2. Calculate loss\n",
    "            loss = loss_fn(pred, yb)\n",
    "            \n",
    "            # 3. Compute gradients\n",
    "            loss.backward()\n",
    "            \n",
    "            # 4. Update parameters using gradients\n",
    "            opt.step()\n",
    "            \n",
    "            # 5. Reset the gradients to zero\n",
    "            opt.zero_grad()\n",
    "        \n",
    "        # Print the progress\n",
    "        if (epoch+1) % 10 == 0:\n",
    "            print('Epoch [{}/{}], Loss: {:.4f}'.format(epoch+1, num_epochs, loss.item()))"
   ]
  },
  {
   "cell_type": "code",
   "execution_count": 48,
   "metadata": {},
   "outputs": [
    {
     "name": "stdout",
     "output_type": "stream",
     "text": [
      "Epoch [10/500], Loss: 212.4721\n",
      "Epoch [20/500], Loss: 63.2246\n",
      "Epoch [30/500], Loss: 30.6564\n",
      "Epoch [40/500], Loss: 63.9705\n",
      "Epoch [50/500], Loss: 88.9227\n",
      "Epoch [60/500], Loss: 26.9394\n",
      "Epoch [70/500], Loss: 57.2927\n",
      "Epoch [80/500], Loss: 24.3257\n",
      "Epoch [90/500], Loss: 13.6757\n",
      "Epoch [100/500], Loss: 16.4105\n",
      "Epoch [110/500], Loss: 10.9340\n",
      "Epoch [120/500], Loss: 8.9510\n",
      "Epoch [130/500], Loss: 10.2236\n",
      "Epoch [140/500], Loss: 7.1167\n",
      "Epoch [150/500], Loss: 7.0430\n",
      "Epoch [160/500], Loss: 2.8944\n",
      "Epoch [170/500], Loss: 6.9261\n",
      "Epoch [180/500], Loss: 4.4294\n",
      "Epoch [190/500], Loss: 5.8207\n",
      "Epoch [200/500], Loss: 3.3287\n",
      "Epoch [210/500], Loss: 5.7640\n",
      "Epoch [220/500], Loss: 5.2532\n",
      "Epoch [230/500], Loss: 6.3352\n",
      "Epoch [240/500], Loss: 4.8442\n",
      "Epoch [250/500], Loss: 4.5646\n",
      "Epoch [260/500], Loss: 3.2086\n",
      "Epoch [270/500], Loss: 2.0326\n",
      "Epoch [280/500], Loss: 4.8379\n",
      "Epoch [290/500], Loss: 3.2178\n",
      "Epoch [300/500], Loss: 1.6844\n",
      "Epoch [310/500], Loss: 3.9389\n",
      "Epoch [320/500], Loss: 1.8314\n",
      "Epoch [330/500], Loss: 2.9814\n",
      "Epoch [340/500], Loss: 2.6279\n",
      "Epoch [350/500], Loss: 2.4195\n",
      "Epoch [360/500], Loss: 2.6188\n",
      "Epoch [370/500], Loss: 1.9963\n",
      "Epoch [380/500], Loss: 1.6636\n",
      "Epoch [390/500], Loss: 1.6160\n",
      "Epoch [400/500], Loss: 1.5498\n",
      "Epoch [410/500], Loss: 1.6638\n",
      "Epoch [420/500], Loss: 1.8250\n",
      "Epoch [430/500], Loss: 1.2652\n",
      "Epoch [440/500], Loss: 2.0333\n",
      "Epoch [450/500], Loss: 1.3742\n",
      "Epoch [460/500], Loss: 1.2869\n",
      "Epoch [470/500], Loss: 1.3782\n",
      "Epoch [480/500], Loss: 1.2891\n",
      "Epoch [490/500], Loss: 1.1364\n",
      "Epoch [500/500], Loss: 1.2164\n"
     ]
    }
   ],
   "source": [
    "fit(500, model, loss_fn, opt, train_dl)"
   ]
  },
  {
   "cell_type": "code",
   "execution_count": 49,
   "metadata": {},
   "outputs": [
    {
     "name": "stdout",
     "output_type": "stream",
     "text": [
      "Prediction tensor([[ 57.2001,  70.4317],\n",
      "        [ 82.2397,  99.7821],\n",
      "        [118.5138, 134.6120],\n",
      "        [ 21.0223,  37.4684],\n",
      "        [102.0769, 117.4010],\n",
      "        [ 57.2001,  70.4317],\n",
      "        [ 82.2397,  99.7821],\n",
      "        [118.5138, 134.6120],\n",
      "        [ 21.0223,  37.4684],\n",
      "        [102.0769, 117.4010],\n",
      "        [ 57.2001,  70.4317],\n",
      "        [ 82.2397,  99.7821],\n",
      "        [118.5138, 134.6120],\n",
      "        [ 21.0223,  37.4684],\n",
      "        [102.0769, 117.4010]], grad_fn=<AddmmBackward>) \n",
      "\n",
      "Targets tensor([[ 56.,  70.],\n",
      "        [ 81., 101.],\n",
      "        [119., 133.],\n",
      "        [ 22.,  37.],\n",
      "        [103., 119.],\n",
      "        [ 56.,  70.],\n",
      "        [ 81., 101.],\n",
      "        [119., 133.],\n",
      "        [ 22.,  37.],\n",
      "        [103., 119.],\n",
      "        [ 56.,  70.],\n",
      "        [ 81., 101.],\n",
      "        [119., 133.],\n",
      "        [ 22.,  37.],\n",
      "        [103., 119.]])\n"
     ]
    }
   ],
   "source": [
    "preds = model(inputs)\n",
    "\n",
    "print(f\"Prediction {preds}\", f\"\\n\\nTargets {targets}\")"
   ]
  },
  {
   "cell_type": "code",
   "execution_count": null,
   "metadata": {},
   "outputs": [],
   "source": []
  }
 ],
 "metadata": {
  "kernelspec": {
   "display_name": "Python 3",
   "language": "python",
   "name": "python3"
  },
  "language_info": {
   "codemirror_mode": {
    "name": "ipython",
    "version": 3
   },
   "file_extension": ".py",
   "mimetype": "text/x-python",
   "name": "python",
   "nbconvert_exporter": "python",
   "pygments_lexer": "ipython3",
   "version": "3.7.4"
  }
 },
 "nbformat": 4,
 "nbformat_minor": 2
}

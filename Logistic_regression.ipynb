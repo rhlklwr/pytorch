{
 "cells": [
  {
   "cell_type": "code",
   "execution_count": 1,
   "metadata": {},
   "outputs": [],
   "source": [
    "import torch\n",
    "import torchvision\n",
    "import numpy as np"
   ]
  },
  {
   "cell_type": "code",
   "execution_count": 2,
   "metadata": {},
   "outputs": [],
   "source": [
    "from torchvision.datasets import MNIST"
   ]
  },
  {
   "cell_type": "code",
   "execution_count": 11,
   "metadata": {},
   "outputs": [
    {
     "name": "stdout",
     "output_type": "stream",
     "text": [
      "Downloading http://yann.lecun.com/exdb/mnist/train-images-idx3-ubyte.gz to ./DATA\\MNIST\\raw\\train-images-idx3-ubyte.gz\n"
     ]
    },
    {
     "data": {
      "application/vnd.jupyter.widget-view+json": {
       "model_id": "383a052f16934bf49ac9a711ddde6af8",
       "version_major": 2,
       "version_minor": 0
      },
      "text/plain": [
       "HBox(children=(IntProgress(value=1, bar_style='info', max=1), HTML(value='')))"
      ]
     },
     "metadata": {},
     "output_type": "display_data"
    },
    {
     "name": "stdout",
     "output_type": "stream",
     "text": [
      "Extracting ./DATA\\MNIST\\raw\\train-images-idx3-ubyte.gz to ./DATA\\MNIST\\raw\n",
      "Downloading http://yann.lecun.com/exdb/mnist/train-labels-idx1-ubyte.gz to ./DATA\\MNIST\\raw\\train-labels-idx1-ubyte.gz\n"
     ]
    },
    {
     "data": {
      "application/vnd.jupyter.widget-view+json": {
       "model_id": "06e3c5fd3a5d4043a01f8450360d8029",
       "version_major": 2,
       "version_minor": 0
      },
      "text/plain": [
       "HBox(children=(IntProgress(value=1, bar_style='info', max=1), HTML(value='')))"
      ]
     },
     "metadata": {},
     "output_type": "display_data"
    },
    {
     "name": "stdout",
     "output_type": "stream",
     "text": [
      "Extracting ./DATA\\MNIST\\raw\\train-labels-idx1-ubyte.gz to ./DATA\\MNIST\\raw\n",
      "Downloading http://yann.lecun.com/exdb/mnist/t10k-images-idx3-ubyte.gz to ./DATA\\MNIST\\raw\\t10k-images-idx3-ubyte.gz\n"
     ]
    },
    {
     "data": {
      "application/vnd.jupyter.widget-view+json": {
       "model_id": "e73d4a9be5324a74968ec4a1103e2422",
       "version_major": 2,
       "version_minor": 0
      },
      "text/plain": [
       "HBox(children=(IntProgress(value=1, bar_style='info', max=1), HTML(value='')))"
      ]
     },
     "metadata": {},
     "output_type": "display_data"
    },
    {
     "name": "stdout",
     "output_type": "stream",
     "text": [
      "Extracting ./DATA\\MNIST\\raw\\t10k-images-idx3-ubyte.gz to ./DATA\\MNIST\\raw\n",
      "Downloading http://yann.lecun.com/exdb/mnist/t10k-labels-idx1-ubyte.gz to ./DATA\\MNIST\\raw\\t10k-labels-idx1-ubyte.gz\n"
     ]
    },
    {
     "data": {
      "application/vnd.jupyter.widget-view+json": {
       "model_id": "3bb3f52222a44800b2acf10fc8e4ae94",
       "version_major": 2,
       "version_minor": 0
      },
      "text/plain": [
       "HBox(children=(IntProgress(value=1, bar_style='info', max=1), HTML(value='')))"
      ]
     },
     "metadata": {},
     "output_type": "display_data"
    },
    {
     "name": "stdout",
     "output_type": "stream",
     "text": [
      "Extracting ./DATA\\MNIST\\raw\\t10k-labels-idx1-ubyte.gz to ./DATA\\MNIST\\raw\n",
      "Processing...\n",
      "Done!\n"
     ]
    }
   ],
   "source": [
    "dataset = MNIST(\"./DATA\",train=True, download = True)"
   ]
  },
  {
   "cell_type": "code",
   "execution_count": 12,
   "metadata": {},
   "outputs": [],
   "source": [
    "test_dataset = MNIST(\"./DATA\",train=False, download = True)"
   ]
  },
  {
   "cell_type": "code",
   "execution_count": 13,
   "metadata": {},
   "outputs": [
    {
     "data": {
      "text/plain": [
       "60000"
      ]
     },
     "execution_count": 13,
     "metadata": {},
     "output_type": "execute_result"
    }
   ],
   "source": [
    "len(dataset)"
   ]
  },
  {
   "cell_type": "code",
   "execution_count": 14,
   "metadata": {},
   "outputs": [
    {
     "data": {
      "text/plain": [
       "10000"
      ]
     },
     "execution_count": 14,
     "metadata": {},
     "output_type": "execute_result"
    }
   ],
   "source": [
    "len(test_dataset)"
   ]
  },
  {
   "cell_type": "code",
   "execution_count": 16,
   "metadata": {},
   "outputs": [],
   "source": [
    "import torchvision.transforms as transforms"
   ]
  },
  {
   "cell_type": "code",
   "execution_count": 17,
   "metadata": {},
   "outputs": [],
   "source": [
    "dataset = MNIST(root='data/', \n",
    "                train=True,\n",
    "                transform=transforms.ToTensor())"
   ]
  },
  {
   "cell_type": "code",
   "execution_count": 23,
   "metadata": {},
   "outputs": [
    {
     "data": {
      "text/plain": [
       "torch.Size([1, 28, 28])"
      ]
     },
     "execution_count": 23,
     "metadata": {},
     "output_type": "execute_result"
    }
   ],
   "source": [
    "dataset[0][0].shape"
   ]
  },
  {
   "cell_type": "code",
   "execution_count": 25,
   "metadata": {},
   "outputs": [],
   "source": [
    "test_dataset = MNIST(root='data/', \n",
    "                train=False,\n",
    "                transform=transforms.ToTensor())"
   ]
  },
  {
   "cell_type": "code",
   "execution_count": 27,
   "metadata": {},
   "outputs": [
    {
     "data": {
      "text/plain": [
       "torch.Size([1, 28, 28])"
      ]
     },
     "execution_count": 27,
     "metadata": {},
     "output_type": "execute_result"
    }
   ],
   "source": [
    "test_dataset[0][0].shape"
   ]
  },
  {
   "cell_type": "code",
   "execution_count": 28,
   "metadata": {},
   "outputs": [
    {
     "name": "stdout",
     "output_type": "stream",
     "text": [
      "torch.Size([1, 28, 28]) 5\n"
     ]
    }
   ],
   "source": [
    "img_tensor, label = dataset[0]\n",
    "print(img_tensor.shape, label)"
   ]
  },
  {
   "cell_type": "code",
   "execution_count": 29,
   "metadata": {},
   "outputs": [
    {
     "name": "stdout",
     "output_type": "stream",
     "text": [
      "tensor([[[0.0039, 0.6039, 0.9922, 0.3529, 0.0000],\n",
      "         [0.0000, 0.5451, 0.9922, 0.7451, 0.0078],\n",
      "         [0.0000, 0.0431, 0.7451, 0.9922, 0.2745],\n",
      "         [0.0000, 0.0000, 0.1373, 0.9451, 0.8824],\n",
      "         [0.0000, 0.0000, 0.0000, 0.3176, 0.9412]]])\n",
      "tensor(1.) tensor(0.)\n"
     ]
    }
   ],
   "source": [
    "print(img_tensor[:,10:15,10:15])\n",
    "print(torch.max(img_tensor), torch.min(img_tensor))"
   ]
  },
  {
   "cell_type": "code",
   "execution_count": 32,
   "metadata": {},
   "outputs": [
    {
     "data": {
      "text/plain": [
       "<matplotlib.image.AxesImage at 0x205def84dc8>"
      ]
     },
     "execution_count": 32,
     "metadata": {},
     "output_type": "execute_result"
    },
    {
     "data": {
      "image/png": "[encoded data removed]",
      "text/plain": [
       "<Figure size 432x288 with 1 Axes>"
      ]
     },
     "metadata": {
      "needs_background": "light"
     },
     "output_type": "display_data"
    }
   ],
   "source": [
    "import matplotlib.pyplot as plt\n",
    "\n",
    "plt.imshow(img_tensor[0,10:15,10:15], cmap='gray')"
   ]
  },
  {
   "cell_type": "code",
   "execution_count": 33,
   "metadata": {},
   "outputs": [],
   "source": [
    "from torch.utils.data import DataLoader, random_split"
   ]
  },
  {
   "cell_type": "code",
   "execution_count": 34,
   "metadata": {},
   "outputs": [],
   "source": [
    "train_ds, val_ds = random_split(dataset, lengths=[50000, 10000])"
   ]
  },
  {
   "cell_type": "code",
   "execution_count": 36,
   "metadata": {},
   "outputs": [
    {
     "data": {
      "text/plain": [
       "(50000, 10000)"
      ]
     },
     "execution_count": 36,
     "metadata": {},
     "output_type": "execute_result"
    }
   ],
   "source": [
    "len(train_ds), len(val_ds)"
   ]
  },
  {
   "cell_type": "code",
   "execution_count": 37,
   "metadata": {},
   "outputs": [],
   "source": [
    "batch_size = 128\n",
    "\n",
    "train_loader = DataLoader(train_ds, batch_size, shuffle=True)\n",
    "val_loader = DataLoader(val_ds, batch_size)"
   ]
  },
  {
   "cell_type": "code",
   "execution_count": 38,
   "metadata": {},
   "outputs": [],
   "source": [
    "import torch.nn as nn\n",
    "\n",
    "input_size = 28*28\n",
    "num_classes = 10\n",
    "\n",
    "# Logistic regression model\n",
    "model = nn.Linear(input_size, num_classes)"
   ]
  },
  {
   "cell_type": "code",
   "execution_count": 39,
   "metadata": {},
   "outputs": [
    {
     "name": "stdout",
     "output_type": "stream",
     "text": [
      "torch.Size([10, 784])\n",
      "torch.Size([10])\n"
     ]
    }
   ],
   "source": [
    "print(model.weight.shape)\n",
    "print(model.bias.shape)"
   ]
  },
  {
   "cell_type": "code",
   "execution_count": 43,
   "metadata": {},
   "outputs": [
    {
     "name": "stdout",
     "output_type": "stream",
     "text": [
      "[Parameter containing:\n",
      "tensor([[-0.0159, -0.0049,  0.0213,  ..., -0.0065, -0.0246,  0.0206],\n",
      "        [-0.0211, -0.0069,  0.0113,  ..., -0.0198,  0.0331, -0.0016],\n",
      "        [ 0.0101,  0.0355,  0.0291,  ..., -0.0343, -0.0125, -0.0084],\n",
      "        ...,\n",
      "        [ 0.0204, -0.0054, -0.0353,  ...,  0.0186, -0.0348,  0.0020],\n",
      "        [-0.0334,  0.0285,  0.0023,  ...,  0.0169, -0.0045,  0.0311],\n",
      "        [-0.0144, -0.0122, -0.0347,  ..., -0.0065,  0.0025, -0.0213]],\n",
      "       requires_grad=True), Parameter containing:\n",
      "tensor([ 0.0300, -0.0152,  0.0242,  0.0322,  0.0329, -0.0102,  0.0079, -0.0197,\n",
      "         0.0267,  0.0260], requires_grad=True)]\n"
     ]
    }
   ],
   "source": [
    "print(list(model.parameters()))"
   ]
  },
  {
   "cell_type": "code",
   "execution_count": 50,
   "metadata": {},
   "outputs": [],
   "source": [
    "class Mnist_model(nn.Module):\n",
    "    def __init__(self):\n",
    "        super().__init__()\n",
    "        self.linear = nn.Linear(input_size, num_classes)\n",
    "    \n",
    "    def forward(self, xb):\n",
    "        xb = xb.reshape(-1, 784)\n",
    "        out = self.linear(xb)\n",
    "        return out\n",
    "    \n",
    "model = Mnist_model()"
   ]
  },
  {
   "cell_type": "code",
   "execution_count": 51,
   "metadata": {},
   "outputs": [
    {
     "name": "stdout",
     "output_type": "stream",
     "text": [
      "torch.Size([10, 784]) torch.Size([10])\n"
     ]
    },
    {
     "data": {
      "text/plain": [
       "[Parameter containing:\n",
       " tensor([[ 0.0182, -0.0217, -0.0133,  ...,  0.0318,  0.0250,  0.0152],\n",
       "         [ 0.0164,  0.0311,  0.0002,  ..., -0.0116,  0.0011,  0.0343],\n",
       "         [-0.0258,  0.0140, -0.0157,  ..., -0.0337,  0.0046,  0.0325],\n",
       "         ...,\n",
       "         [ 0.0107,  0.0182,  0.0315,  ...,  0.0310, -0.0223,  0.0182],\n",
       "         [ 0.0012, -0.0276, -0.0241,  ...,  0.0015, -0.0004,  0.0095],\n",
       "         [-0.0016,  0.0225, -0.0097,  ..., -0.0108, -0.0074,  0.0117]],\n",
       "        requires_grad=True), Parameter containing:\n",
       " tensor([-0.0015,  0.0029, -0.0045,  0.0225, -0.0154,  0.0261, -0.0118, -0.0082,\n",
       "         -0.0164,  0.0215], requires_grad=True)]"
      ]
     },
     "execution_count": 51,
     "metadata": {},
     "output_type": "execute_result"
    }
   ],
   "source": [
    "print(model.linear.weight.shape, model.linear.bias.shape)\n",
    "list(model.parameters())"
   ]
  },
  {
   "cell_type": "code",
   "execution_count": 52,
   "metadata": {},
   "outputs": [],
   "source": [
    "import torch.nn.functional as F"
   ]
  },
  {
   "cell_type": "code",
   "execution_count": 54,
   "metadata": {},
   "outputs": [
    {
     "name": "stdout",
     "output_type": "stream",
     "text": [
      "outputs.shape :  torch.Size([128, 10])\n",
      "Sample outputs :\n",
      " tensor([[ 0.0685,  0.0008, -0.2360,  0.1964,  0.1835, -0.0498, -0.0234, -0.0754,\n",
      "         -0.0666,  0.2037],\n",
      "        [ 0.1571, -0.0776, -0.2498, -0.1458,  0.1388, -0.0999, -0.3728, -0.2585,\n",
      "          0.2321,  0.2339]])\n"
     ]
    }
   ],
   "source": [
    "for images, labels in train_loader:\n",
    "    outputs = model(images)\n",
    "    break\n",
    "\n",
    "print('outputs.shape : ', outputs.shape)\n",
    "print('Sample outputs :\\n', outputs[:2].data)"
   ]
  },
  {
   "cell_type": "code",
   "execution_count": 55,
   "metadata": {},
   "outputs": [
    {
     "name": "stdout",
     "output_type": "stream",
     "text": [
      "Sample probabilities:\n",
      " tensor([[0.1040, 0.0972, 0.0767, 0.1182, 0.1167, 0.0924, 0.0949, 0.0901, 0.0909,\n",
      "         0.1191],\n",
      "        [0.1197, 0.0946, 0.0797, 0.0884, 0.1175, 0.0925, 0.0704, 0.0790, 0.1290,\n",
      "         0.1292]])\n",
      "Sum:  1.0\n"
     ]
    }
   ],
   "source": [
    "probs = F.softmax(outputs, dim=1)\n",
    "\n",
    "print(\"Sample probabilities:\\n\", probs[:2].data)\n",
    "\n",
    "print(\"Sum: \", torch.sum(probs[0]).item())"
   ]
  },
  {
   "cell_type": "code",
   "execution_count": 56,
   "metadata": {},
   "outputs": [
    {
     "name": "stdout",
     "output_type": "stream",
     "text": [
      "tensor([9, 9, 0, 1, 0, 8, 0, 3, 3, 8, 3, 3, 0, 0, 8, 0, 0, 0, 8, 0, 4, 0, 8, 0,\n",
      "        0, 0, 0, 3, 8, 0, 0, 0, 0, 4, 3, 4, 0, 4, 1, 0, 8, 8, 8, 3, 8, 5, 3, 3,\n",
      "        0, 0, 8, 4, 0, 0, 3, 8, 0, 8, 0, 3, 7, 8, 8, 3, 1, 3, 0, 8, 0, 0, 0, 3,\n",
      "        4, 9, 0, 8, 4, 0, 0, 9, 9, 8, 5, 0, 1, 3, 8, 4, 1, 3, 0, 8, 3, 9, 0, 0,\n",
      "        0, 0, 0, 4, 0, 0, 8, 0, 8, 8, 0, 0, 9, 0, 0, 0, 0, 8, 0, 0, 0, 8, 0, 3,\n",
      "        0, 0, 3, 7, 0, 3, 9, 4])\n",
      "tensor([0.1191, 0.1292, 0.1517, 0.1287, 0.1328, 0.1445, 0.1322, 0.1169, 0.1229,\n",
      "        0.1306, 0.1240, 0.1184, 0.1326, 0.1488, 0.1329, 0.1414, 0.1211, 0.1306,\n",
      "        0.1300, 0.1480, 0.1350, 0.1654, 0.1207, 0.1578, 0.1234, 0.1378, 0.1407,\n",
      "        0.1400, 0.1306, 0.1175, 0.1245, 0.1489, 0.1375, 0.1281, 0.1239, 0.1371,\n",
      "        0.1253, 0.1398, 0.1160, 0.1308, 0.1239, 0.1387, 0.1317, 0.1238, 0.1191,\n",
      "        0.1290, 0.1218, 0.1349, 0.1523, 0.1460, 0.1507, 0.1355, 0.1884, 0.1384,\n",
      "        0.1270, 0.1374, 0.1271, 0.1320, 0.1277, 0.1232, 0.1319, 0.1299, 0.1258,\n",
      "        0.1126, 0.1248, 0.1196, 0.1410, 0.1396, 0.1147, 0.1111, 0.1401, 0.1271,\n",
      "        0.1253, 0.1372, 0.1535, 0.1423, 0.1229, 0.1158, 0.1241, 0.1174, 0.1290,\n",
      "        0.1347, 0.1162, 0.1669, 0.1384, 0.1280, 0.1392, 0.1209, 0.1316, 0.1281,\n",
      "        0.1672, 0.1513, 0.1370, 0.1396, 0.1506, 0.1442, 0.1623, 0.1429, 0.1427,\n",
      "        0.1430, 0.1204, 0.1536, 0.1220, 0.1237, 0.1494, 0.1172, 0.1377, 0.1279,\n",
      "        0.1272, 0.1225, 0.1339, 0.1589, 0.1352, 0.1263, 0.1394, 0.1258, 0.1142,\n",
      "        0.1255, 0.1452, 0.1294, 0.1658, 0.1181, 0.1253, 0.1281, 0.1410, 0.1556,\n",
      "        0.1120, 0.1491], grad_fn=<MaxBackward0>)\n"
     ]
    }
   ],
   "source": [
    "max_probs, preds = torch.max(probs, dim=1)\n",
    "print(preds)\n",
    "print(max_probs)"
   ]
  },
  {
   "cell_type": "code",
   "execution_count": null,
   "metadata": {},
   "outputs": [],
   "source": []
  }
 ],
 "metadata": {
  "kernelspec": {
   "display_name": "Python 3",
   "language": "python",
   "name": "python3"
  },
  "language_info": {
   "codemirror_mode": {
    "name": "ipython",
    "version": 3
   },
   "file_extension": ".py",
   "mimetype": "text/x-python",
   "name": "python",
   "nbconvert_exporter": "python",
   "pygments_lexer": "ipython3",
   "version": "3.7.4"
  }
 },
 "nbformat": 4,
 "nbformat_minor": 2
}
